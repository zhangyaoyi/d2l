{
 "cells": [
  {
   "cell_type": "code",
   "id": "initial_id",
   "metadata": {
    "collapsed": true,
    "ExecuteTime": {
     "end_time": "2024-07-25T02:18:58.678036Z",
     "start_time": "2024-07-25T02:18:58.676059Z"
    }
   },
   "source": [
    "import torch\n",
    "\n",
    "x = torch.tensor([1,2,3])\n",
    "y = torch.tensor([4,5,6])\n",
    "print(x)\n",
    "print(y)"
   ],
   "outputs": [
    {
     "name": "stdout",
     "output_type": "stream",
     "text": [
      "tensor([1, 2, 3])\n",
      "tensor([4, 5, 6])\n"
     ]
    }
   ],
   "execution_count": 22
  },
  {
   "metadata": {
    "ExecuteTime": {
     "end_time": "2024-07-25T02:18:58.698721Z",
     "start_time": "2024-07-25T02:18:58.692165Z"
    }
   },
   "cell_type": "code",
   "source": "x+y",
   "id": "38bfd912037bb5b1",
   "outputs": [
    {
     "data": {
      "text/plain": [
       "tensor([5, 7, 9])"
      ]
     },
     "execution_count": 23,
     "metadata": {},
     "output_type": "execute_result"
    }
   ],
   "execution_count": 23
  },
  {
   "metadata": {
    "ExecuteTime": {
     "end_time": "2024-07-25T02:18:58.705238Z",
     "start_time": "2024-07-25T02:18:58.700879Z"
    }
   },
   "cell_type": "code",
   "source": "x*y",
   "id": "2adee674d4b88e92",
   "outputs": [
    {
     "data": {
      "text/plain": [
       "tensor([ 4, 10, 18])"
      ]
     },
     "execution_count": 24,
     "metadata": {},
     "output_type": "execute_result"
    }
   ],
   "execution_count": 24
  },
  {
   "metadata": {
    "ExecuteTime": {
     "end_time": "2024-07-25T02:18:58.710695Z",
     "start_time": "2024-07-25T02:18:58.706188Z"
    }
   },
   "cell_type": "code",
   "source": "x/y",
   "id": "4e02f391fc45048c",
   "outputs": [
    {
     "data": {
      "text/plain": [
       "tensor([0.2500, 0.4000, 0.5000])"
      ]
     },
     "execution_count": 25,
     "metadata": {},
     "output_type": "execute_result"
    }
   ],
   "execution_count": 25
  },
  {
   "metadata": {
    "ExecuteTime": {
     "end_time": "2024-07-25T02:18:58.717195Z",
     "start_time": "2024-07-25T02:18:58.711429Z"
    }
   },
   "cell_type": "code",
   "source": "x**y",
   "id": "3b95024385230395",
   "outputs": [
    {
     "data": {
      "text/plain": [
       "tensor([  1,  32, 729])"
      ]
     },
     "execution_count": 26,
     "metadata": {},
     "output_type": "execute_result"
    }
   ],
   "execution_count": 26
  },
  {
   "metadata": {
    "ExecuteTime": {
     "end_time": "2024-07-25T02:18:58.725673Z",
     "start_time": "2024-07-25T02:18:58.718529Z"
    }
   },
   "cell_type": "code",
   "source": "x-y",
   "id": "1836568ab498566a",
   "outputs": [
    {
     "data": {
      "text/plain": [
       "tensor([-3, -3, -3])"
      ]
     },
     "execution_count": 27,
     "metadata": {},
     "output_type": "execute_result"
    }
   ],
   "execution_count": 27
  },
  {
   "metadata": {
    "ExecuteTime": {
     "end_time": "2024-07-25T02:18:58.732669Z",
     "start_time": "2024-07-25T02:18:58.727071Z"
    }
   },
   "cell_type": "code",
   "source": "torch.dot(x,y)",
   "id": "530c449ab3ad8194",
   "outputs": [
    {
     "data": {
      "text/plain": [
       "tensor(32)"
      ]
     },
     "execution_count": 28,
     "metadata": {},
     "output_type": "execute_result"
    }
   ],
   "execution_count": 28
  },
  {
   "metadata": {
    "ExecuteTime": {
     "end_time": "2024-07-25T02:18:58.738783Z",
     "start_time": "2024-07-25T02:18:58.733998Z"
    }
   },
   "cell_type": "code",
   "source": "torch.matmul(x,y)\n",
   "id": "15bb2022a63d3178",
   "outputs": [
    {
     "data": {
      "text/plain": [
       "tensor(32)"
      ]
     },
     "execution_count": 29,
     "metadata": {},
     "output_type": "execute_result"
    }
   ],
   "execution_count": 29
  },
  {
   "metadata": {
    "ExecuteTime": {
     "end_time": "2024-07-25T02:19:55.993451Z",
     "start_time": "2024-07-25T02:19:55.982329Z"
    }
   },
   "cell_type": "code",
   "source": [
    "x = torch.tensor([[1,2,3],[4,5,6]])\n",
    "y = torch.tensor([4,5,6])\n",
    "print(x)\n",
    "print(x.ndim)\n",
    "print(y)\n",
    "print(y.ndim)"
   ],
   "id": "26bd5d3d70b3832b",
   "outputs": [
    {
     "name": "stdout",
     "output_type": "stream",
     "text": [
      "tensor([[1, 2, 3],\n",
      "        [4, 5, 6]])\n",
      "2\n",
      "tensor([4, 5, 6])\n",
      "1\n"
     ]
    }
   ],
   "execution_count": 32
  },
  {
   "metadata": {
    "ExecuteTime": {
     "end_time": "2024-07-25T02:24:53.367596Z",
     "start_time": "2024-07-25T02:24:53.357553Z"
    }
   },
   "cell_type": "code",
   "source": "x*y",
   "id": "ef47d3e7cc4f19ae",
   "outputs": [
    {
     "data": {
      "text/plain": [
       "tensor([[ 4, 10, 18],\n",
       "        [16, 25, 36]])"
      ]
     },
     "execution_count": 35,
     "metadata": {},
     "output_type": "execute_result"
    }
   ],
   "execution_count": 35
  },
  {
   "metadata": {},
   "cell_type": "code",
   "outputs": [],
   "execution_count": null,
   "source": "",
   "id": "4f54b04b573d2b48"
  }
 ],
 "metadata": {
  "kernelspec": {
   "display_name": "Python 3",
   "language": "python",
   "name": "python3"
  },
  "language_info": {
   "codemirror_mode": {
    "name": "ipython",
    "version": 2
   },
   "file_extension": ".py",
   "mimetype": "text/x-python",
   "name": "python",
   "nbconvert_exporter": "python",
   "pygments_lexer": "ipython2",
   "version": "2.7.6"
  }
 },
 "nbformat": 4,
 "nbformat_minor": 5
}
