{
 "cells": [
  {
   "metadata": {},
   "cell_type": "markdown",
   "source": [
    "# 加载 fashion-mnist 数据集\n",
    "batch size 为 256"
   ],
   "id": "b549f78ae0c70cd5"
  },
  {
   "metadata": {
    "ExecuteTime": {
     "end_time": "2024-08-01T03:19:25.711634Z",
     "start_time": "2024-08-01T03:19:24.731499Z"
    }
   },
   "cell_type": "code",
   "source": [
    "import torch\n",
    "from tqdm import tqdm\n",
    "from torch import nn\n",
    "import torchvision\n",
    "from d2l import torch as d2l"
   ],
   "id": "initial_id",
   "outputs": [],
   "execution_count": 1
  },
  {
   "metadata": {},
   "cell_type": "code",
   "source": [
    "batch_size = 100\n",
    "\n",
    "mnist_train, mnist_test =d2l.load_data_fashion_mnist(batch_size)"
   ],
   "id": "d6fa5edb5f7a436f",
   "outputs": [],
   "execution_count": null
  },
  {
   "metadata": {},
   "cell_type": "markdown",
   "source": [
    "# 定义模型\n",
    "图片的 size 为 28 * 28 = 784\n",
    "输出是 10 个类别\n",
    "把图片的像素转化为向量"
   ],
   "id": "7fb5ab270391fd97"
  },
  {
   "metadata": {},
   "cell_type": "code",
   "source": [
    "network = nn.Sequential(nn.Flatten(), nn.Linear(784, 10))\n",
    "\n",
    "def init_weights(m):\n",
    "    if type(m) == nn.Linear:\n",
    "        nn.init.normal_(m.weight, std=0.01)\n",
    "\n",
    "network.apply(init_weights)\n",
    "\n",
    "loss_function = nn.CrossEntropyLoss()\n",
    "\n",
    "optimizer = torch.optim.SGD(network.parameters(), lr=0.1)\n",
    "\n",
    "def evaluate_accuracy(net, data_iter):  #@save\n",
    "    \"\"\"计算在指定数据集上模型的精度\"\"\"\n",
    "    if isinstance(net, torch.nn.Module):\n",
    "        net.eval()  # 将模型设置为评估模式\n",
    "    metric = Accumulator(2)  # 正确预测数、预测总数\n",
    "    with torch.no_grad():\n",
    "        for X, y in data_iter:\n",
    "            metric.add(accuracy(net(X), y), y.numel())\n",
    "    return metric[0] / metric[1]\n",
    "\n",
    "class Accumulator:  #@save\n",
    "    \"\"\"在n个变量上累加\"\"\"\n",
    "    def __init__(self, n):\n",
    "        self.data = [0.0] * n\n",
    "\n",
    "    def add(self, *args):\n",
    "        self.data = [a + float(b) for a, b in zip(self.data, args)]\n",
    "\n",
    "    def reset(self):\n",
    "        self.data = [0.0] * len(self.data)\n",
    "\n",
    "    def __getitem__(self, idx):\n",
    "        return self.data[idx]\n",
    "    \n",
    "def accuracy(y_hat, y):  #@save\n",
    "    \"\"\"计算预测正确的数量\"\"\"\n",
    "    if len(y_hat.shape) > 1 and y_hat.shape[1] > 1:\n",
    "        y_hat = y_hat.argmax(axis=1)\n",
    "    cmp = y_hat.type(y.dtype) == y\n",
    "    return float(cmp.type(y.dtype).sum())"
   ],
   "id": "c0b5443ec53e939c",
   "outputs": [],
   "execution_count": null
  },
  {
   "metadata": {},
   "cell_type": "code",
   "source": [
    "epochs = 150\n",
    "for epoch in range(epochs):\n",
    "    network.train()\n",
    "    total_loss = 0\n",
    "    for X, y in tqdm(mnist_train, desc=f\"Epoch {epoch+1}/{epochs}\"):\n",
    "        pred = network(X)\n",
    "        loss = loss_function(pred, y)\n",
    "        optimizer.zero_grad()\n",
    "        loss.backward()\n",
    "        optimizer.step()\n",
    "        total_loss += loss.item()\n",
    "    \n",
    "    avg_loss = total_loss / len(mnist_train)\n",
    "    print(f\"Epoch {epoch+1}/{epochs}, Average Loss: {avg_loss:.4f}\")\n",
    "\n",
    "    # 可选：在验证集上评估\n",
    "    network.eval()\n",
    "    with torch.no_grad():\n",
    "        evaluate_accuracy(network, mnist_test)\n",
    "        "
   ],
   "id": "3da09a1d88ee3065",
   "outputs": [],
   "execution_count": null
  },
  {
   "metadata": {},
   "cell_type": "code",
   "source": "torch.tensor([2, 3])",
   "id": "adc7139a33a1308b",
   "outputs": [],
   "execution_count": null
  },
  {
   "metadata": {},
   "cell_type": "code",
   "source": "torch.tensor([4., 2., 3.], requires_grad=True)",
   "id": "f20e6257842f03b5",
   "outputs": [],
   "execution_count": null
  },
  {
   "metadata": {
    "ExecuteTime": {
     "end_time": "2024-08-01T03:19:29.179938Z",
     "start_time": "2024-08-01T03:19:29.168895Z"
    }
   },
   "cell_type": "code",
   "source": [
    "x = torch.tensor(([1,2], [2,3]), requires_grad=True, dtype=torch.float)\n",
    "y = torch.tensor(([1, 2], [3, 4]), requires_grad=True, dtype=torch.float)\n",
    "print(y)"
   ],
   "id": "fba6e2fb714c8ebd",
   "outputs": [
    {
     "name": "stdout",
     "output_type": "stream",
     "text": [
      "tensor([[1., 2.],\n",
      "        [3., 4.]], requires_grad=True)\n"
     ]
    }
   ],
   "execution_count": 2
  },
  {
   "metadata": {
    "ExecuteTime": {
     "end_time": "2024-08-01T03:19:31.541595Z",
     "start_time": "2024-08-01T03:19:31.531191Z"
    }
   },
   "cell_type": "code",
   "source": [
    "for i in range(2):\n",
    "    y = torch.matmul(x, y)\n",
    "    print(y)"
   ],
   "id": "f4f0f8a54035c5a",
   "outputs": [
    {
     "name": "stdout",
     "output_type": "stream",
     "text": [
      "tensor([[ 7., 10.],\n",
      "        [11., 16.]], grad_fn=<MmBackward0>)\n",
      "tensor([[29., 42.],\n",
      "        [47., 68.]], grad_fn=<MmBackward0>)\n"
     ]
    }
   ],
   "execution_count": 3
  },
  {
   "metadata": {
    "ExecuteTime": {
     "end_time": "2024-08-01T03:19:48.377080Z",
     "start_time": "2024-08-01T03:19:48.217263Z"
    }
   },
   "cell_type": "code",
   "source": [
    "z = torch.sum(y)\n",
    "z.backward()"
   ],
   "id": "3862751fb15e4581",
   "outputs": [],
   "execution_count": 4
  },
  {
   "metadata": {
    "ExecuteTime": {
     "end_time": "2024-08-01T03:19:51.094135Z",
     "start_time": "2024-08-01T03:19:51.084463Z"
    }
   },
   "cell_type": "code",
   "source": [
    "\n",
    "x.grad"
   ],
   "id": "56b0928dc50c76f8",
   "outputs": [
    {
     "data": {
      "text/plain": [
       "tensor([[26., 48.],\n",
       "        [32., 62.]])"
      ]
     },
     "execution_count": 5,
     "metadata": {},
     "output_type": "execute_result"
    }
   ],
   "execution_count": 5
  },
  {
   "metadata": {},
   "cell_type": "code",
   "source": "",
   "id": "8630c7adbab1bb68",
   "outputs": [],
   "execution_count": null
  }
 ],
 "metadata": {
  "kernelspec": {
   "display_name": "Python 3",
   "language": "python",
   "name": "python3"
  },
  "language_info": {
   "codemirror_mode": {
    "name": "ipython",
    "version": 2
   },
   "file_extension": ".py",
   "mimetype": "text/x-python",
   "name": "python",
   "nbconvert_exporter": "python",
   "pygments_lexer": "ipython2",
   "version": "2.7.6"
  }
 },
 "nbformat": 4,
 "nbformat_minor": 5
}
